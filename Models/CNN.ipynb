{
  "cells": [
    {
      "cell_type": "code",
      "execution_count": 1,
      "metadata": {
        "colab": {
          "base_uri": "https://localhost:8080/"
        },
        "id": "_ir9dXD6qK6R",
        "outputId": "5670d21c-8fcb-4027-9990-601e0965e8b5"
      },
      "outputs": [
        {
          "name": "stdout",
          "output_type": "stream",
          "text": [
            "Mounted at /content/gdrive\n"
          ]
        }
      ],
      "source": [
        "# Connect to the google drive\n",
        "from google.colab import drive\n",
        "drive.mount('/content/gdrive')"
      ]
    },
    {
      "cell_type": "code",
      "execution_count": 10,
      "metadata": {
        "id": "M7L60QvAqbXa"
      },
      "outputs": [],
      "source": [
        "# Import library\n",
        "from math import sqrt\n",
        "from numpy import split\n",
        "from numpy import array\n",
        "from pandas import read_csv\n",
        "from sklearn.metrics import mean_squared_error\n",
        "from keras.models import Sequential\n",
        "from keras.layers import Dense\n",
        "from keras.layers import Dropout\n",
        "from keras.layers import Flatten\n",
        "from keras.layers import TimeDistributed\n",
        "from keras.layers.convolutional import Conv1D\n",
        "from keras.layers.convolutional import MaxPooling1D\n",
        "import matplotlib.pyplot as plt\n",
        "import math\n",
        "from sklearn.preprocessing import MinMaxScaler\n",
        "import numpy as np\n",
        "from sklearn.model_selection import train_test_split\n",
        "import pandas as pd\n",
        "from datetime import datetime\n",
        "import matplotlib.dates as mdates\n",
        "from keras import optimizers\n",
        "from sklearn.metrics import mean_absolute_error\n",
        "from sklearn.metrics import mean_absolute_percentage_error\n",
        "from sklearn.metrics import r2_score\n",
        "from numpy import savetxt\n",
        "import seaborn as sns"
      ]
    },
    {
      "cell_type": "code",
      "execution_count": 3,
      "metadata": {
        "colab": {
          "base_uri": "https://localhost:8080/",
          "height": 73
        },
        "id": "Mk-9xy2bqgWa",
        "outputId": "8b0ff2bf-af58-45a2-daef-d7c88aabe020"
      },
      "outputs": [
        {
          "data": {
            "text/html": [
              "\n",
              "     <input type=\"file\" id=\"files-d77fee02-f42e-4f2e-bb4d-ff6d04216573\" name=\"files[]\" multiple disabled\n",
              "        style=\"border:none\" />\n",
              "     <output id=\"result-d77fee02-f42e-4f2e-bb4d-ff6d04216573\">\n",
              "      Upload widget is only available when the cell has been executed in the\n",
              "      current browser session. Please rerun this cell to enable.\n",
              "      </output>\n",
              "      <script>// Copyright 2017 Google LLC\n",
              "//\n",
              "// Licensed under the Apache License, Version 2.0 (the \"License\");\n",
              "// you may not use this file except in compliance with the License.\n",
              "// You may obtain a copy of the License at\n",
              "//\n",
              "//      http://www.apache.org/licenses/LICENSE-2.0\n",
              "//\n",
              "// Unless required by applicable law or agreed to in writing, software\n",
              "// distributed under the License is distributed on an \"AS IS\" BASIS,\n",
              "// WITHOUT WARRANTIES OR CONDITIONS OF ANY KIND, either express or implied.\n",
              "// See the License for the specific language governing permissions and\n",
              "// limitations under the License.\n",
              "\n",
              "/**\n",
              " * @fileoverview Helpers for google.colab Python module.\n",
              " */\n",
              "(function(scope) {\n",
              "function span(text, styleAttributes = {}) {\n",
              "  const element = document.createElement('span');\n",
              "  element.textContent = text;\n",
              "  for (const key of Object.keys(styleAttributes)) {\n",
              "    element.style[key] = styleAttributes[key];\n",
              "  }\n",
              "  return element;\n",
              "}\n",
              "\n",
              "// Max number of bytes which will be uploaded at a time.\n",
              "const MAX_PAYLOAD_SIZE = 100 * 1024;\n",
              "\n",
              "function _uploadFiles(inputId, outputId) {\n",
              "  const steps = uploadFilesStep(inputId, outputId);\n",
              "  const outputElement = document.getElementById(outputId);\n",
              "  // Cache steps on the outputElement to make it available for the next call\n",
              "  // to uploadFilesContinue from Python.\n",
              "  outputElement.steps = steps;\n",
              "\n",
              "  return _uploadFilesContinue(outputId);\n",
              "}\n",
              "\n",
              "// This is roughly an async generator (not supported in the browser yet),\n",
              "// where there are multiple asynchronous steps and the Python side is going\n",
              "// to poll for completion of each step.\n",
              "// This uses a Promise to block the python side on completion of each step,\n",
              "// then passes the result of the previous step as the input to the next step.\n",
              "function _uploadFilesContinue(outputId) {\n",
              "  const outputElement = document.getElementById(outputId);\n",
              "  const steps = outputElement.steps;\n",
              "\n",
              "  const next = steps.next(outputElement.lastPromiseValue);\n",
              "  return Promise.resolve(next.value.promise).then((value) => {\n",
              "    // Cache the last promise value to make it available to the next\n",
              "    // step of the generator.\n",
              "    outputElement.lastPromiseValue = value;\n",
              "    return next.value.response;\n",
              "  });\n",
              "}\n",
              "\n",
              "/**\n",
              " * Generator function which is called between each async step of the upload\n",
              " * process.\n",
              " * @param {string} inputId Element ID of the input file picker element.\n",
              " * @param {string} outputId Element ID of the output display.\n",
              " * @return {!Iterable<!Object>} Iterable of next steps.\n",
              " */\n",
              "function* uploadFilesStep(inputId, outputId) {\n",
              "  const inputElement = document.getElementById(inputId);\n",
              "  inputElement.disabled = false;\n",
              "\n",
              "  const outputElement = document.getElementById(outputId);\n",
              "  outputElement.innerHTML = '';\n",
              "\n",
              "  const pickedPromise = new Promise((resolve) => {\n",
              "    inputElement.addEventListener('change', (e) => {\n",
              "      resolve(e.target.files);\n",
              "    });\n",
              "  });\n",
              "\n",
              "  const cancel = document.createElement('button');\n",
              "  inputElement.parentElement.appendChild(cancel);\n",
              "  cancel.textContent = 'Cancel upload';\n",
              "  const cancelPromise = new Promise((resolve) => {\n",
              "    cancel.onclick = () => {\n",
              "      resolve(null);\n",
              "    };\n",
              "  });\n",
              "\n",
              "  // Wait for the user to pick the files.\n",
              "  const files = yield {\n",
              "    promise: Promise.race([pickedPromise, cancelPromise]),\n",
              "    response: {\n",
              "      action: 'starting',\n",
              "    }\n",
              "  };\n",
              "\n",
              "  cancel.remove();\n",
              "\n",
              "  // Disable the input element since further picks are not allowed.\n",
              "  inputElement.disabled = true;\n",
              "\n",
              "  if (!files) {\n",
              "    return {\n",
              "      response: {\n",
              "        action: 'complete',\n",
              "      }\n",
              "    };\n",
              "  }\n",
              "\n",
              "  for (const file of files) {\n",
              "    const li = document.createElement('li');\n",
              "    li.append(span(file.name, {fontWeight: 'bold'}));\n",
              "    li.append(span(\n",
              "        `(${file.type || 'n/a'}) - ${file.size} bytes, ` +\n",
              "        `last modified: ${\n",
              "            file.lastModifiedDate ? file.lastModifiedDate.toLocaleDateString() :\n",
              "                                    'n/a'} - `));\n",
              "    const percent = span('0% done');\n",
              "    li.appendChild(percent);\n",
              "\n",
              "    outputElement.appendChild(li);\n",
              "\n",
              "    const fileDataPromise = new Promise((resolve) => {\n",
              "      const reader = new FileReader();\n",
              "      reader.onload = (e) => {\n",
              "        resolve(e.target.result);\n",
              "      };\n",
              "      reader.readAsArrayBuffer(file);\n",
              "    });\n",
              "    // Wait for the data to be ready.\n",
              "    let fileData = yield {\n",
              "      promise: fileDataPromise,\n",
              "      response: {\n",
              "        action: 'continue',\n",
              "      }\n",
              "    };\n",
              "\n",
              "    // Use a chunked sending to avoid message size limits. See b/62115660.\n",
              "    let position = 0;\n",
              "    do {\n",
              "      const length = Math.min(fileData.byteLength - position, MAX_PAYLOAD_SIZE);\n",
              "      const chunk = new Uint8Array(fileData, position, length);\n",
              "      position += length;\n",
              "\n",
              "      const base64 = btoa(String.fromCharCode.apply(null, chunk));\n",
              "      yield {\n",
              "        response: {\n",
              "          action: 'append',\n",
              "          file: file.name,\n",
              "          data: base64,\n",
              "        },\n",
              "      };\n",
              "\n",
              "      let percentDone = fileData.byteLength === 0 ?\n",
              "          100 :\n",
              "          Math.round((position / fileData.byteLength) * 100);\n",
              "      percent.textContent = `${percentDone}% done`;\n",
              "\n",
              "    } while (position < fileData.byteLength);\n",
              "  }\n",
              "\n",
              "  // All done.\n",
              "  yield {\n",
              "    response: {\n",
              "      action: 'complete',\n",
              "    }\n",
              "  };\n",
              "}\n",
              "\n",
              "scope.google = scope.google || {};\n",
              "scope.google.colab = scope.google.colab || {};\n",
              "scope.google.colab._files = {\n",
              "  _uploadFiles,\n",
              "  _uploadFilesContinue,\n",
              "};\n",
              "})(self);\n",
              "</script> "
            ],
            "text/plain": [
              "<IPython.core.display.HTML object>"
            ]
          },
          "metadata": {},
          "output_type": "display_data"
        },
        {
          "name": "stdout",
          "output_type": "stream",
          "text": [
            "Saving Wanshouxigong.csv to Wanshouxigong.csv\n"
          ]
        }
      ],
      "source": [
        "from google.colab import files\n",
        "uploaded = files.upload()"
      ]
    },
    {
      "cell_type": "code",
      "execution_count": 4,
      "metadata": {
        "colab": {
          "base_uri": "https://localhost:8080/",
          "height": 424
        },
        "id": "yBmFzfTKqzua",
        "outputId": "b99716cf-cc7c-4025-908a-5782cee1f652"
      },
      "outputs": [
        {
          "data": {
            "text/html": [
              "\n",
              "  <div id=\"df-ec735f1a-550f-4320-8338-a0df0b1fc3dc\">\n",
              "    <div class=\"colab-df-container\">\n",
              "      <div>\n",
              "<style scoped>\n",
              "    .dataframe tbody tr th:only-of-type {\n",
              "        vertical-align: middle;\n",
              "    }\n",
              "\n",
              "    .dataframe tbody tr th {\n",
              "        vertical-align: top;\n",
              "    }\n",
              "\n",
              "    .dataframe thead th {\n",
              "        text-align: right;\n",
              "    }\n",
              "</style>\n",
              "<table border=\"1\" class=\"dataframe\">\n",
              "  <thead>\n",
              "    <tr style=\"text-align: right;\">\n",
              "      <th></th>\n",
              "      <th>No</th>\n",
              "      <th>year</th>\n",
              "      <th>month</th>\n",
              "      <th>day</th>\n",
              "      <th>hour</th>\n",
              "      <th>PM2.5</th>\n",
              "      <th>PM10</th>\n",
              "      <th>SO2</th>\n",
              "      <th>NO2</th>\n",
              "      <th>CO</th>\n",
              "      <th>O3</th>\n",
              "      <th>TEMP</th>\n",
              "      <th>PRES</th>\n",
              "      <th>DEWP</th>\n",
              "      <th>RAIN</th>\n",
              "      <th>wd</th>\n",
              "      <th>WSPM</th>\n",
              "    </tr>\n",
              "  </thead>\n",
              "  <tbody>\n",
              "    <tr>\n",
              "      <th>0</th>\n",
              "      <td>1</td>\n",
              "      <td>2013</td>\n",
              "      <td>3</td>\n",
              "      <td>1</td>\n",
              "      <td>0</td>\n",
              "      <td>9.0</td>\n",
              "      <td>9.0</td>\n",
              "      <td>6.0</td>\n",
              "      <td>17.0</td>\n",
              "      <td>200.0</td>\n",
              "      <td>62.0</td>\n",
              "      <td>0.3</td>\n",
              "      <td>1021.9</td>\n",
              "      <td>-19.0</td>\n",
              "      <td>0.0</td>\n",
              "      <td>WNW</td>\n",
              "      <td>2.0</td>\n",
              "    </tr>\n",
              "    <tr>\n",
              "      <th>1</th>\n",
              "      <td>2</td>\n",
              "      <td>2013</td>\n",
              "      <td>3</td>\n",
              "      <td>1</td>\n",
              "      <td>1</td>\n",
              "      <td>11.0</td>\n",
              "      <td>11.0</td>\n",
              "      <td>7.0</td>\n",
              "      <td>14.0</td>\n",
              "      <td>200.0</td>\n",
              "      <td>66.0</td>\n",
              "      <td>-0.1</td>\n",
              "      <td>1022.4</td>\n",
              "      <td>-19.3</td>\n",
              "      <td>0.0</td>\n",
              "      <td>WNW</td>\n",
              "      <td>4.4</td>\n",
              "    </tr>\n",
              "    <tr>\n",
              "      <th>2</th>\n",
              "      <td>3</td>\n",
              "      <td>2013</td>\n",
              "      <td>3</td>\n",
              "      <td>1</td>\n",
              "      <td>2</td>\n",
              "      <td>8.0</td>\n",
              "      <td>8.0</td>\n",
              "      <td>NaN</td>\n",
              "      <td>16.0</td>\n",
              "      <td>200.0</td>\n",
              "      <td>59.0</td>\n",
              "      <td>-0.6</td>\n",
              "      <td>1022.6</td>\n",
              "      <td>-19.7</td>\n",
              "      <td>0.0</td>\n",
              "      <td>WNW</td>\n",
              "      <td>4.7</td>\n",
              "    </tr>\n",
              "    <tr>\n",
              "      <th>3</th>\n",
              "      <td>4</td>\n",
              "      <td>2013</td>\n",
              "      <td>3</td>\n",
              "      <td>1</td>\n",
              "      <td>3</td>\n",
              "      <td>8.0</td>\n",
              "      <td>8.0</td>\n",
              "      <td>3.0</td>\n",
              "      <td>16.0</td>\n",
              "      <td>NaN</td>\n",
              "      <td>NaN</td>\n",
              "      <td>-0.7</td>\n",
              "      <td>1023.5</td>\n",
              "      <td>-20.9</td>\n",
              "      <td>0.0</td>\n",
              "      <td>NW</td>\n",
              "      <td>2.6</td>\n",
              "    </tr>\n",
              "    <tr>\n",
              "      <th>4</th>\n",
              "      <td>5</td>\n",
              "      <td>2013</td>\n",
              "      <td>3</td>\n",
              "      <td>1</td>\n",
              "      <td>4</td>\n",
              "      <td>8.0</td>\n",
              "      <td>8.0</td>\n",
              "      <td>3.0</td>\n",
              "      <td>NaN</td>\n",
              "      <td>300.0</td>\n",
              "      <td>36.0</td>\n",
              "      <td>-0.9</td>\n",
              "      <td>1024.1</td>\n",
              "      <td>-21.7</td>\n",
              "      <td>0.0</td>\n",
              "      <td>WNW</td>\n",
              "      <td>2.5</td>\n",
              "    </tr>\n",
              "    <tr>\n",
              "      <th>...</th>\n",
              "      <td>...</td>\n",
              "      <td>...</td>\n",
              "      <td>...</td>\n",
              "      <td>...</td>\n",
              "      <td>...</td>\n",
              "      <td>...</td>\n",
              "      <td>...</td>\n",
              "      <td>...</td>\n",
              "      <td>...</td>\n",
              "      <td>...</td>\n",
              "      <td>...</td>\n",
              "      <td>...</td>\n",
              "      <td>...</td>\n",
              "      <td>...</td>\n",
              "      <td>...</td>\n",
              "      <td>...</td>\n",
              "      <td>...</td>\n",
              "    </tr>\n",
              "    <tr>\n",
              "      <th>35059</th>\n",
              "      <td>35060</td>\n",
              "      <td>2017</td>\n",
              "      <td>2</td>\n",
              "      <td>28</td>\n",
              "      <td>19</td>\n",
              "      <td>11.0</td>\n",
              "      <td>32.0</td>\n",
              "      <td>3.0</td>\n",
              "      <td>24.0</td>\n",
              "      <td>400.0</td>\n",
              "      <td>72.0</td>\n",
              "      <td>12.5</td>\n",
              "      <td>1013.5</td>\n",
              "      <td>-16.2</td>\n",
              "      <td>0.0</td>\n",
              "      <td>NW</td>\n",
              "      <td>2.4</td>\n",
              "    </tr>\n",
              "    <tr>\n",
              "      <th>35060</th>\n",
              "      <td>35061</td>\n",
              "      <td>2017</td>\n",
              "      <td>2</td>\n",
              "      <td>28</td>\n",
              "      <td>20</td>\n",
              "      <td>13.0</td>\n",
              "      <td>32.0</td>\n",
              "      <td>3.0</td>\n",
              "      <td>41.0</td>\n",
              "      <td>500.0</td>\n",
              "      <td>50.0</td>\n",
              "      <td>11.6</td>\n",
              "      <td>1013.6</td>\n",
              "      <td>-15.1</td>\n",
              "      <td>0.0</td>\n",
              "      <td>WNW</td>\n",
              "      <td>0.9</td>\n",
              "    </tr>\n",
              "    <tr>\n",
              "      <th>35061</th>\n",
              "      <td>35062</td>\n",
              "      <td>2017</td>\n",
              "      <td>2</td>\n",
              "      <td>28</td>\n",
              "      <td>21</td>\n",
              "      <td>14.0</td>\n",
              "      <td>28.0</td>\n",
              "      <td>4.0</td>\n",
              "      <td>38.0</td>\n",
              "      <td>500.0</td>\n",
              "      <td>54.0</td>\n",
              "      <td>10.8</td>\n",
              "      <td>1014.2</td>\n",
              "      <td>-13.3</td>\n",
              "      <td>0.0</td>\n",
              "      <td>NW</td>\n",
              "      <td>1.1</td>\n",
              "    </tr>\n",
              "    <tr>\n",
              "      <th>35062</th>\n",
              "      <td>35063</td>\n",
              "      <td>2017</td>\n",
              "      <td>2</td>\n",
              "      <td>28</td>\n",
              "      <td>22</td>\n",
              "      <td>12.0</td>\n",
              "      <td>23.0</td>\n",
              "      <td>4.0</td>\n",
              "      <td>30.0</td>\n",
              "      <td>400.0</td>\n",
              "      <td>59.0</td>\n",
              "      <td>10.5</td>\n",
              "      <td>1014.4</td>\n",
              "      <td>-12.9</td>\n",
              "      <td>0.0</td>\n",
              "      <td>NNW</td>\n",
              "      <td>1.2</td>\n",
              "    </tr>\n",
              "    <tr>\n",
              "      <th>35063</th>\n",
              "      <td>35064</td>\n",
              "      <td>2017</td>\n",
              "      <td>2</td>\n",
              "      <td>28</td>\n",
              "      <td>23</td>\n",
              "      <td>13.0</td>\n",
              "      <td>19.0</td>\n",
              "      <td>4.0</td>\n",
              "      <td>38.0</td>\n",
              "      <td>600.0</td>\n",
              "      <td>49.0</td>\n",
              "      <td>8.6</td>\n",
              "      <td>1014.1</td>\n",
              "      <td>-15.9</td>\n",
              "      <td>0.0</td>\n",
              "      <td>NNE</td>\n",
              "      <td>1.3</td>\n",
              "    </tr>\n",
              "  </tbody>\n",
              "</table>\n",
              "<p>35064 rows × 17 columns</p>\n",
              "</div>\n",
              "      <button class=\"colab-df-convert\" onclick=\"convertToInteractive('df-ec735f1a-550f-4320-8338-a0df0b1fc3dc')\"\n",
              "              title=\"Convert this dataframe to an interactive table.\"\n",
              "              style=\"display:none;\">\n",
              "        \n",
              "  <svg xmlns=\"http://www.w3.org/2000/svg\" height=\"24px\"viewBox=\"0 0 24 24\"\n",
              "       width=\"24px\">\n",
              "    <path d=\"M0 0h24v24H0V0z\" fill=\"none\"/>\n",
              "    <path d=\"M18.56 5.44l.94 2.06.94-2.06 2.06-.94-2.06-.94-.94-2.06-.94 2.06-2.06.94zm-11 1L8.5 8.5l.94-2.06 2.06-.94-2.06-.94L8.5 2.5l-.94 2.06-2.06.94zm10 10l.94 2.06.94-2.06 2.06-.94-2.06-.94-.94-2.06-.94 2.06-2.06.94z\"/><path d=\"M17.41 7.96l-1.37-1.37c-.4-.4-.92-.59-1.43-.59-.52 0-1.04.2-1.43.59L10.3 9.45l-7.72 7.72c-.78.78-.78 2.05 0 2.83L4 21.41c.39.39.9.59 1.41.59.51 0 1.02-.2 1.41-.59l7.78-7.78 2.81-2.81c.8-.78.8-2.07 0-2.86zM5.41 20L4 18.59l7.72-7.72 1.47 1.35L5.41 20z\"/>\n",
              "  </svg>\n",
              "      </button>\n",
              "      \n",
              "  <style>\n",
              "    .colab-df-container {\n",
              "      display:flex;\n",
              "      flex-wrap:wrap;\n",
              "      gap: 12px;\n",
              "    }\n",
              "\n",
              "    .colab-df-convert {\n",
              "      background-color: #E8F0FE;\n",
              "      border: none;\n",
              "      border-radius: 50%;\n",
              "      cursor: pointer;\n",
              "      display: none;\n",
              "      fill: #1967D2;\n",
              "      height: 32px;\n",
              "      padding: 0 0 0 0;\n",
              "      width: 32px;\n",
              "    }\n",
              "\n",
              "    .colab-df-convert:hover {\n",
              "      background-color: #E2EBFA;\n",
              "      box-shadow: 0px 1px 2px rgba(60, 64, 67, 0.3), 0px 1px 3px 1px rgba(60, 64, 67, 0.15);\n",
              "      fill: #174EA6;\n",
              "    }\n",
              "\n",
              "    [theme=dark] .colab-df-convert {\n",
              "      background-color: #3B4455;\n",
              "      fill: #D2E3FC;\n",
              "    }\n",
              "\n",
              "    [theme=dark] .colab-df-convert:hover {\n",
              "      background-color: #434B5C;\n",
              "      box-shadow: 0px 1px 3px 1px rgba(0, 0, 0, 0.15);\n",
              "      filter: drop-shadow(0px 1px 2px rgba(0, 0, 0, 0.3));\n",
              "      fill: #FFFFFF;\n",
              "    }\n",
              "  </style>\n",
              "\n",
              "      <script>\n",
              "        const buttonEl =\n",
              "          document.querySelector('#df-ec735f1a-550f-4320-8338-a0df0b1fc3dc button.colab-df-convert');\n",
              "        buttonEl.style.display =\n",
              "          google.colab.kernel.accessAllowed ? 'block' : 'none';\n",
              "\n",
              "        async function convertToInteractive(key) {\n",
              "          const element = document.querySelector('#df-ec735f1a-550f-4320-8338-a0df0b1fc3dc');\n",
              "          const dataTable =\n",
              "            await google.colab.kernel.invokeFunction('convertToInteractive',\n",
              "                                                     [key], {});\n",
              "          if (!dataTable) return;\n",
              "\n",
              "          const docLinkHtml = 'Like what you see? Visit the ' +\n",
              "            '<a target=\"_blank\" href=https://colab.research.google.com/notebooks/data_table.ipynb>data table notebook</a>'\n",
              "            + ' to learn more about interactive tables.';\n",
              "          element.innerHTML = '';\n",
              "          dataTable['output_type'] = 'display_data';\n",
              "          await google.colab.output.renderOutput(dataTable, element);\n",
              "          const docLink = document.createElement('div');\n",
              "          docLink.innerHTML = docLinkHtml;\n",
              "          element.appendChild(docLink);\n",
              "        }\n",
              "      </script>\n",
              "    </div>\n",
              "  </div>\n",
              "  "
            ],
            "text/plain": [
              "          No  year  month  day  hour  PM2.5  PM10  SO2   NO2     CO    O3  \\\n",
              "0          1  2013      3    1     0    9.0   9.0  6.0  17.0  200.0  62.0   \n",
              "1          2  2013      3    1     1   11.0  11.0  7.0  14.0  200.0  66.0   \n",
              "2          3  2013      3    1     2    8.0   8.0  NaN  16.0  200.0  59.0   \n",
              "3          4  2013      3    1     3    8.0   8.0  3.0  16.0    NaN   NaN   \n",
              "4          5  2013      3    1     4    8.0   8.0  3.0   NaN  300.0  36.0   \n",
              "...      ...   ...    ...  ...   ...    ...   ...  ...   ...    ...   ...   \n",
              "35059  35060  2017      2   28    19   11.0  32.0  3.0  24.0  400.0  72.0   \n",
              "35060  35061  2017      2   28    20   13.0  32.0  3.0  41.0  500.0  50.0   \n",
              "35061  35062  2017      2   28    21   14.0  28.0  4.0  38.0  500.0  54.0   \n",
              "35062  35063  2017      2   28    22   12.0  23.0  4.0  30.0  400.0  59.0   \n",
              "35063  35064  2017      2   28    23   13.0  19.0  4.0  38.0  600.0  49.0   \n",
              "\n",
              "       TEMP    PRES  DEWP  RAIN   wd  WSPM  \n",
              "0       0.3  1021.9 -19.0   0.0  WNW   2.0  \n",
              "1      -0.1  1022.4 -19.3   0.0  WNW   4.4  \n",
              "2      -0.6  1022.6 -19.7   0.0  WNW   4.7  \n",
              "3      -0.7  1023.5 -20.9   0.0   NW   2.6  \n",
              "4      -0.9  1024.1 -21.7   0.0  WNW   2.5  \n",
              "...     ...     ...   ...   ...  ...   ...  \n",
              "35059  12.5  1013.5 -16.2   0.0   NW   2.4  \n",
              "35060  11.6  1013.6 -15.1   0.0  WNW   0.9  \n",
              "35061  10.8  1014.2 -13.3   0.0   NW   1.1  \n",
              "35062  10.5  1014.4 -12.9   0.0  NNW   1.2  \n",
              "35063   8.6  1014.1 -15.9   0.0  NNE   1.3  \n",
              "\n",
              "[35064 rows x 17 columns]"
            ]
          },
          "execution_count": 4,
          "metadata": {},
          "output_type": "execute_result"
        }
      ],
      "source": [
        "data=read_csv(\"Wanshouxigong.csv\")\n",
        "data"
      ]
    },
    {
      "cell_type": "code",
      "execution_count": 5,
      "metadata": {
        "id": "88yeoB2wq3gw"
      },
      "outputs": [],
      "source": [
        "def parse(x):\n",
        "    return datetime.strptime(x, '%Y %m %d %H')\n",
        "dataset = pd.read_csv('Wanshouxigong.csv',index_col=0, date_parser=parse,parse_dates=[['year', 'month', 'day', 'hour']])"
      ]
    },
    {
      "cell_type": "code",
      "execution_count": 6,
      "metadata": {
        "id": "ce9R9R0ml3lA"
      },
      "outputs": [],
      "source": [
        "dataset.drop(\"No\", axis=1, inplace=True)"
      ]
    },
    {
      "cell_type": "code",
      "execution_count": 7,
      "metadata": {
        "id": "kg3q9iUmZoEq"
      },
      "outputs": [],
      "source": [
        "dataset=dataset.fillna(method=\"pad\")"
      ]
    },
    {
      "cell_type": "code",
      "execution_count": 8,
      "metadata": {
        "colab": {
          "base_uri": "https://localhost:8080/"
        },
        "id": "TJuS6RTZZrpV",
        "outputId": "0e735f72-1855-4733-f6e1-cfe0ff493278"
      },
      "outputs": [
        {
          "data": {
            "text/plain": [
              "PM2.5    0\n",
              "PM10     0\n",
              "SO2      0\n",
              "NO2      0\n",
              "CO       0\n",
              "O3       0\n",
              "TEMP     0\n",
              "PRES     0\n",
              "DEWP     0\n",
              "RAIN     0\n",
              "wd       0\n",
              "WSPM     0\n",
              "dtype: int64"
            ]
          },
          "execution_count": 8,
          "metadata": {},
          "output_type": "execute_result"
        }
      ],
      "source": [
        "dataset.isnull().sum()"
      ]
    },
    {
      "cell_type": "code",
      "execution_count": 9,
      "metadata": {
        "colab": {
          "base_uri": "https://localhost:8080/"
        },
        "id": "zU7Rz9dLZvQk",
        "outputId": "e20f7eb3-4d22-4020-ccdf-5a6a67ed0ed6"
      },
      "outputs": [
        {
          "data": {
            "text/plain": [
              "['PM2.5',\n",
              " 'PM10',\n",
              " 'SO2',\n",
              " 'NO2',\n",
              " 'CO',\n",
              " 'O3',\n",
              " 'TEMP',\n",
              " 'PRES',\n",
              " 'DEWP',\n",
              " 'RAIN',\n",
              " 'wd',\n",
              " 'WSPM']"
            ]
          },
          "execution_count": 9,
          "metadata": {},
          "output_type": "execute_result"
        }
      ],
      "source": [
        "dataset_columns = dataset.columns.tolist()\n",
        "dataset_columns"
      ]
    },
    {
      "cell_type": "code",
      "execution_count": 11,
      "metadata": {
        "colab": {
          "base_uri": "https://localhost:8080/",
          "height": 395
        },
        "id": "g-EE_fSLKEjf",
        "outputId": "774cc4f2-0bf5-4397-9ec0-5033528c7c2a"
      },
      "outputs": [
        {
          "data": {
            "image/png": "[encoded data removed]",
            "text/plain": [
              "<Figure size 432x432 with 2 Axes>"
            ]
          },
          "metadata": {
            "needs_background": "light"
          },
          "output_type": "display_data"
        }
      ],
      "source": [
        "# applying mask\n",
        "mask = np.triu(np.ones_like(dataset.corr()))\n",
        "f, ax = plt.subplots(figsize=(6, 6))\n",
        "# plotting a triangle correlation heatmap\n",
        "dataplot = sns.heatmap(dataset.corr(),annot=True, mask=mask)\n",
        " \n",
        "# displaying heatmap\n",
        "plt.show()"
      ]
    },
    {
      "cell_type": "code",
      "execution_count": null,
      "metadata": {
        "colab": {
          "base_uri": "https://localhost:8080/"
        },
        "id": "o-7ceXseZyPC",
        "outputId": "7986bf72-d05a-435a-ad19-8989fef32e95"
      },
      "outputs": [
        {
          "data": {
            "text/plain": [
              "array([14., 14., 14., ...,  7.,  6.,  5.], dtype=float32)"
            ]
          },
          "execution_count": 10,
          "metadata": {},
          "output_type": "execute_result"
        }
      ],
      "source": [
        "from sklearn.preprocessing import LabelEncoder\n",
        "\n",
        "# Encode non categorical values\n",
        "values = dataset.values\n",
        "encoder = LabelEncoder()\n",
        "values[:,10] = encoder.fit_transform(values[:,10])\n",
        "values = values.astype('float32')\n",
        "values[:,10]"
      ]
    },
    {
      "cell_type": "code",
      "execution_count": null,
      "metadata": {
        "id": "qhZjuYiUZ2LR"
      },
      "outputs": [],
      "source": [
        "#Normalising data\n",
        "from sklearn.preprocessing import MinMaxScaler\n",
        "\n",
        "scaler = MinMaxScaler(feature_range=(0, 1))\n",
        "scaled_dataset = scaler.fit_transform(values)"
      ]
    },
    {
      "cell_type": "code",
      "execution_count": null,
      "metadata": {
        "id": "q_LBnSPvZ5E1"
      },
      "outputs": [],
      "source": [
        "#Creating a window for previous data\n",
        "def to_supervised(train):\n",
        "  window_size = 4\n",
        "  X = []\n",
        "  Y = []\n",
        "  for i in range(window_size, len(train)):\n",
        "    X.append(train[i-window_size:i,:])\n",
        "    Y.append(train[i,0:1])\n",
        "    \n",
        "  return X,Y"
      ]
    },
    {
      "cell_type": "code",
      "execution_count": null,
      "metadata": {
        "colab": {
          "base_uri": "https://localhost:8080/"
        },
        "id": "vKo_v4HaZ8VM",
        "outputId": "1924a262-94dd-4e14-9595-c8896487f02a"
      },
      "outputs": [
        {
          "name": "stdout",
          "output_type": "stream",
          "text": [
            "Y (35060, 1)\n",
            "X (35060, 4, 12)\n"
          ]
        }
      ],
      "source": [
        "X, Y = to_supervised(scaled_dataset)\n",
        "X = np.array(X)\n",
        "Y = np.array(Y)\n",
        "print('Y' ,Y.shape)\n",
        "print('X' ,X.shape)"
      ]
    },
    {
      "cell_type": "code",
      "execution_count": null,
      "metadata": {
        "colab": {
          "base_uri": "https://localhost:8080/"
        },
        "id": "qg_PKYPQZ_ST",
        "outputId": "0528c4ee-40b3-4846-8f86-5f1525d4de45"
      },
      "outputs": [
        {
          "name": "stdout",
          "output_type": "stream",
          "text": [
            "X_train (26300, 4, 12)\n",
            "X_test (8760, 4, 12)\n",
            "Y_train (26300, 1)\n",
            "Y_test (8760, 1)\n"
          ]
        }
      ],
      "source": [
        "#Splitting the dataset\n",
        "n_train = 24*365\n",
        "X_train, X_test = X[n_train:,] , X[:n_train,]\n",
        "print('X_train' ,X_train.shape)\n",
        "print('X_test' ,X_test.shape)\n",
        "\n",
        "Y_train, Y_test = Y[n_train:,] , Y[:n_train,]\n",
        "print('Y_train' ,Y_train.shape)\n",
        "print('Y_test' ,Y_test.shape)"
      ]
    },
    {
      "cell_type": "code",
      "execution_count": null,
      "metadata": {
        "id": "9Hd04AslaC2Z"
      },
      "outputs": [],
      "source": [
        "model_cnn = Sequential()\n",
        "model_cnn.add(Conv1D(filters=64, kernel_size=2, activation='relu', input_shape=(X_train.shape[1], X_train.shape[2])))\n",
        "model_cnn.add(MaxPooling1D(pool_size=2))\n",
        "model_cnn.add(Flatten())\n",
        "model_cnn.add(Dense(50))\n",
        "model_cnn.add(Dense(1))\n",
        "model_cnn.compile(loss='mse', optimizer='adam')"
      ]
    },
    {
      "cell_type": "code",
      "execution_count": null,
      "metadata": {
        "colab": {
          "base_uri": "https://localhost:8080/"
        },
        "id": "FKrCvp12aNWz",
        "outputId": "ea257129-0528-4e0e-abd4-26a2775f3721"
      },
      "outputs": [
        {
          "name": "stdout",
          "output_type": "stream",
          "text": [
            "Epoch 1/100\n",
            "411/411 [==============================] - 2s 3ms/step - loss: 0.0024 - val_loss: 0.0016\n",
            "Epoch 2/100\n",
            "411/411 [==============================] - 1s 3ms/step - loss: 0.0013 - val_loss: 0.0013\n",
            "Epoch 3/100\n",
            "411/411 [==============================] - 2s 6ms/step - loss: 0.0013 - val_loss: 0.0013\n",
            "Epoch 4/100\n",
            "411/411 [==============================] - 2s 5ms/step - loss: 0.0012 - val_loss: 0.0013\n",
            "Epoch 5/100\n",
            "411/411 [==============================] - 3s 6ms/step - loss: 0.0011 - val_loss: 0.0013\n",
            "Epoch 6/100\n",
            "411/411 [==============================] - 1s 3ms/step - loss: 0.0011 - val_loss: 0.0012\n",
            "Epoch 7/100\n",
            "411/411 [==============================] - 1s 3ms/step - loss: 0.0011 - val_loss: 0.0013\n",
            "Epoch 8/100\n",
            "411/411 [==============================] - 1s 3ms/step - loss: 0.0011 - val_loss: 0.0012\n",
            "Epoch 9/100\n",
            "411/411 [==============================] - 1s 3ms/step - loss: 0.0011 - val_loss: 0.0013\n",
            "Epoch 10/100\n",
            "411/411 [==============================] - 1s 3ms/step - loss: 0.0011 - val_loss: 0.0012\n",
            "Epoch 11/100\n",
            "411/411 [==============================] - 1s 3ms/step - loss: 0.0011 - val_loss: 0.0012\n",
            "Epoch 12/100\n",
            "411/411 [==============================] - 1s 3ms/step - loss: 0.0011 - val_loss: 0.0012\n",
            "Epoch 13/100\n",
            "411/411 [==============================] - 1s 3ms/step - loss: 0.0011 - val_loss: 0.0012\n",
            "Epoch 14/100\n",
            "411/411 [==============================] - 1s 3ms/step - loss: 0.0011 - val_loss: 0.0012\n",
            "Epoch 15/100\n",
            "411/411 [==============================] - 1s 3ms/step - loss: 0.0011 - val_loss: 0.0012\n",
            "Epoch 16/100\n",
            "411/411 [==============================] - 1s 3ms/step - loss: 0.0010 - val_loss: 0.0014\n",
            "Epoch 17/100\n",
            "411/411 [==============================] - 1s 3ms/step - loss: 0.0010 - val_loss: 0.0012\n",
            "Epoch 18/100\n",
            "411/411 [==============================] - 1s 3ms/step - loss: 0.0010 - val_loss: 0.0012\n",
            "Epoch 19/100\n",
            "411/411 [==============================] - 1s 3ms/step - loss: 0.0010 - val_loss: 0.0012\n",
            "Epoch 20/100\n",
            "411/411 [==============================] - 1s 3ms/step - loss: 0.0010 - val_loss: 0.0013\n",
            "Epoch 21/100\n",
            "411/411 [==============================] - 1s 3ms/step - loss: 0.0010 - val_loss: 0.0011\n",
            "Epoch 22/100\n",
            "411/411 [==============================] - 1s 3ms/step - loss: 0.0010 - val_loss: 0.0012\n",
            "Epoch 23/100\n",
            "411/411 [==============================] - 1s 3ms/step - loss: 0.0010 - val_loss: 0.0012\n",
            "Epoch 24/100\n",
            "411/411 [==============================] - 1s 3ms/step - loss: 0.0010 - val_loss: 0.0012\n",
            "Epoch 25/100\n",
            "411/411 [==============================] - 1s 3ms/step - loss: 9.9980e-04 - val_loss: 0.0013\n",
            "Epoch 26/100\n",
            "411/411 [==============================] - 1s 3ms/step - loss: 0.0010 - val_loss: 0.0012\n",
            "Epoch 27/100\n",
            "411/411 [==============================] - 1s 3ms/step - loss: 0.0010 - val_loss: 0.0012\n",
            "Epoch 28/100\n",
            "411/411 [==============================] - 1s 3ms/step - loss: 9.9535e-04 - val_loss: 0.0011\n",
            "Epoch 29/100\n",
            "411/411 [==============================] - 1s 3ms/step - loss: 0.0010 - val_loss: 0.0012\n",
            "Epoch 30/100\n",
            "411/411 [==============================] - 1s 3ms/step - loss: 9.9982e-04 - val_loss: 0.0012\n",
            "Epoch 31/100\n",
            "411/411 [==============================] - 1s 3ms/step - loss: 9.9029e-04 - val_loss: 0.0011\n",
            "Epoch 32/100\n",
            "411/411 [==============================] - 1s 3ms/step - loss: 9.8294e-04 - val_loss: 0.0012\n",
            "Epoch 33/100\n",
            "411/411 [==============================] - 1s 3ms/step - loss: 9.8692e-04 - val_loss: 0.0011\n",
            "Epoch 34/100\n",
            "411/411 [==============================] - 1s 3ms/step - loss: 9.8099e-04 - val_loss: 0.0012\n",
            "Epoch 35/100\n",
            "411/411 [==============================] - 1s 3ms/step - loss: 9.8445e-04 - val_loss: 0.0011\n",
            "Epoch 36/100\n",
            "411/411 [==============================] - 1s 3ms/step - loss: 9.8113e-04 - val_loss: 0.0013\n",
            "Epoch 37/100\n",
            "411/411 [==============================] - 1s 3ms/step - loss: 9.9427e-04 - val_loss: 0.0012\n",
            "Epoch 38/100\n",
            "411/411 [==============================] - 1s 3ms/step - loss: 9.6934e-04 - val_loss: 0.0012\n",
            "Epoch 39/100\n",
            "411/411 [==============================] - 1s 3ms/step - loss: 9.6663e-04 - val_loss: 0.0012\n",
            "Epoch 40/100\n",
            "411/411 [==============================] - 1s 3ms/step - loss: 9.7915e-04 - val_loss: 0.0012\n",
            "Epoch 41/100\n",
            "411/411 [==============================] - 1s 3ms/step - loss: 9.7113e-04 - val_loss: 0.0012\n",
            "Epoch 42/100\n",
            "411/411 [==============================] - 1s 3ms/step - loss: 9.6743e-04 - val_loss: 0.0011\n",
            "Epoch 43/100\n",
            "411/411 [==============================] - 1s 3ms/step - loss: 9.6472e-04 - val_loss: 0.0011\n",
            "Epoch 44/100\n",
            "411/411 [==============================] - 1s 3ms/step - loss: 9.6287e-04 - val_loss: 0.0012\n",
            "Epoch 45/100\n",
            "411/411 [==============================] - 1s 3ms/step - loss: 9.5350e-04 - val_loss: 0.0012\n",
            "Epoch 46/100\n",
            "411/411 [==============================] - 1s 3ms/step - loss: 9.5535e-04 - val_loss: 0.0011\n",
            "Epoch 47/100\n",
            "411/411 [==============================] - 1s 3ms/step - loss: 9.5230e-04 - val_loss: 0.0011\n",
            "Epoch 48/100\n",
            "411/411 [==============================] - 1s 3ms/step - loss: 9.5364e-04 - val_loss: 0.0011\n",
            "Epoch 49/100\n",
            "411/411 [==============================] - 1s 3ms/step - loss: 9.4630e-04 - val_loss: 0.0011\n",
            "Epoch 50/100\n",
            "411/411 [==============================] - 1s 3ms/step - loss: 9.4990e-04 - val_loss: 0.0012\n",
            "Epoch 51/100\n",
            "411/411 [==============================] - 1s 3ms/step - loss: 9.5168e-04 - val_loss: 0.0011\n",
            "Epoch 52/100\n",
            "411/411 [==============================] - 1s 3ms/step - loss: 9.3450e-04 - val_loss: 0.0011\n",
            "Epoch 53/100\n",
            "411/411 [==============================] - 1s 3ms/step - loss: 9.4286e-04 - val_loss: 0.0011\n",
            "Epoch 54/100\n",
            "411/411 [==============================] - 1s 3ms/step - loss: 9.3926e-04 - val_loss: 0.0012\n",
            "Epoch 55/100\n",
            "411/411 [==============================] - 1s 3ms/step - loss: 9.3221e-04 - val_loss: 0.0012\n",
            "Epoch 56/100\n",
            "411/411 [==============================] - 1s 3ms/step - loss: 9.3390e-04 - val_loss: 0.0011\n",
            "Epoch 57/100\n",
            "411/411 [==============================] - 1s 3ms/step - loss: 9.3391e-04 - val_loss: 0.0011\n",
            "Epoch 58/100\n",
            "411/411 [==============================] - 1s 3ms/step - loss: 9.4054e-04 - val_loss: 0.0011\n",
            "Epoch 59/100\n",
            "411/411 [==============================] - 1s 3ms/step - loss: 9.2247e-04 - val_loss: 0.0011\n",
            "Epoch 60/100\n",
            "411/411 [==============================] - 1s 3ms/step - loss: 9.2155e-04 - val_loss: 0.0013\n",
            "Epoch 61/100\n",
            "411/411 [==============================] - 1s 3ms/step - loss: 9.3099e-04 - val_loss: 0.0011\n",
            "Epoch 62/100\n",
            "411/411 [==============================] - 1s 3ms/step - loss: 9.2204e-04 - val_loss: 0.0012\n",
            "Epoch 63/100\n",
            "411/411 [==============================] - 1s 3ms/step - loss: 9.2277e-04 - val_loss: 0.0012\n",
            "Epoch 64/100\n",
            "411/411 [==============================] - 1s 3ms/step - loss: 9.2310e-04 - val_loss: 0.0012\n",
            "Epoch 65/100\n",
            "411/411 [==============================] - 1s 3ms/step - loss: 9.2478e-04 - val_loss: 0.0012\n",
            "Epoch 66/100\n",
            "411/411 [==============================] - 1s 3ms/step - loss: 9.1454e-04 - val_loss: 0.0011\n",
            "Epoch 67/100\n",
            "411/411 [==============================] - 1s 3ms/step - loss: 9.0696e-04 - val_loss: 0.0012\n",
            "Epoch 68/100\n",
            "411/411 [==============================] - 1s 3ms/step - loss: 9.1259e-04 - val_loss: 0.0011\n",
            "Epoch 69/100\n",
            "411/411 [==============================] - 1s 3ms/step - loss: 9.1643e-04 - val_loss: 0.0011\n",
            "Epoch 70/100\n",
            "411/411 [==============================] - 1s 3ms/step - loss: 9.0532e-04 - val_loss: 0.0012\n",
            "Epoch 71/100\n",
            "411/411 [==============================] - 1s 3ms/step - loss: 9.0925e-04 - val_loss: 0.0011\n",
            "Epoch 72/100\n",
            "411/411 [==============================] - 1s 3ms/step - loss: 9.1175e-04 - val_loss: 0.0011\n",
            "Epoch 73/100\n",
            "411/411 [==============================] - 1s 3ms/step - loss: 9.0017e-04 - val_loss: 0.0012\n",
            "Epoch 74/100\n",
            "411/411 [==============================] - 1s 3ms/step - loss: 9.0811e-04 - val_loss: 0.0011\n",
            "Epoch 75/100\n",
            "411/411 [==============================] - 1s 3ms/step - loss: 8.9692e-04 - val_loss: 0.0011\n",
            "Epoch 76/100\n",
            "411/411 [==============================] - 1s 3ms/step - loss: 9.0825e-04 - val_loss: 0.0011\n",
            "Epoch 77/100\n",
            "411/411 [==============================] - 1s 3ms/step - loss: 8.8823e-04 - val_loss: 0.0011\n",
            "Epoch 78/100\n",
            "411/411 [==============================] - 1s 3ms/step - loss: 8.8316e-04 - val_loss: 0.0011\n",
            "Epoch 79/100\n",
            "411/411 [==============================] - 1s 3ms/step - loss: 8.8549e-04 - val_loss: 0.0012\n",
            "Epoch 80/100\n",
            "411/411 [==============================] - 1s 3ms/step - loss: 9.0200e-04 - val_loss: 0.0012\n",
            "Epoch 81/100\n",
            "411/411 [==============================] - 2s 5ms/step - loss: 8.9943e-04 - val_loss: 0.0011\n",
            "Epoch 82/100\n",
            "411/411 [==============================] - 2s 4ms/step - loss: 8.9030e-04 - val_loss: 0.0011\n",
            "Epoch 83/100\n",
            "411/411 [==============================] - 1s 3ms/step - loss: 8.9475e-04 - val_loss: 0.0011\n",
            "Epoch 84/100\n",
            "411/411 [==============================] - 1s 3ms/step - loss: 8.9455e-04 - val_loss: 0.0011\n",
            "Epoch 85/100\n",
            "411/411 [==============================] - 1s 3ms/step - loss: 8.8893e-04 - val_loss: 0.0011\n",
            "Epoch 86/100\n",
            "411/411 [==============================] - 1s 3ms/step - loss: 8.8601e-04 - val_loss: 0.0011\n",
            "Epoch 87/100\n",
            "411/411 [==============================] - 1s 3ms/step - loss: 8.8371e-04 - val_loss: 0.0011\n",
            "Epoch 88/100\n",
            "411/411 [==============================] - 1s 3ms/step - loss: 8.9135e-04 - val_loss: 0.0011\n",
            "Epoch 89/100\n",
            "411/411 [==============================] - 1s 3ms/step - loss: 8.9441e-04 - val_loss: 0.0012\n",
            "Epoch 90/100\n",
            "411/411 [==============================] - 1s 3ms/step - loss: 8.7861e-04 - val_loss: 0.0011\n",
            "Epoch 91/100\n",
            "411/411 [==============================] - 1s 3ms/step - loss: 8.8670e-04 - val_loss: 0.0011\n",
            "Epoch 92/100\n",
            "411/411 [==============================] - 1s 3ms/step - loss: 8.7987e-04 - val_loss: 0.0012\n",
            "Epoch 93/100\n",
            "411/411 [==============================] - 1s 3ms/step - loss: 8.7414e-04 - val_loss: 0.0011\n",
            "Epoch 94/100\n",
            "411/411 [==============================] - 1s 3ms/step - loss: 8.8348e-04 - val_loss: 0.0011\n",
            "Epoch 95/100\n",
            "411/411 [==============================] - 1s 3ms/step - loss: 8.8052e-04 - val_loss: 0.0011\n",
            "Epoch 96/100\n",
            "411/411 [==============================] - 1s 3ms/step - loss: 8.7039e-04 - val_loss: 0.0012\n",
            "Epoch 97/100\n",
            "411/411 [==============================] - 1s 3ms/step - loss: 8.7495e-04 - val_loss: 0.0011\n",
            "Epoch 98/100\n",
            "411/411 [==============================] - 1s 3ms/step - loss: 8.6028e-04 - val_loss: 0.0011\n",
            "Epoch 99/100\n",
            "411/411 [==============================] - 1s 3ms/step - loss: 8.7082e-04 - val_loss: 0.0011\n",
            "Epoch 100/100\n",
            "411/411 [==============================] - 1s 3ms/step - loss: 8.6820e-04 - val_loss: 0.0011\n"
          ]
        }
      ],
      "source": [
        "history = model_cnn.fit(X_train, Y_train, validation_data=(X_test, Y_test), epochs=100, batch_size = 64, verbose=1)"
      ]
    },
    {
      "cell_type": "code",
      "execution_count": null,
      "metadata": {
        "id": "PyhWg4vxaU3O"
      },
      "outputs": [],
      "source": [
        "from keras.models import load_model\n",
        "model_cnn.save('AirPollutionCNN.h5')"
      ]
    },
    {
      "cell_type": "code",
      "execution_count": null,
      "metadata": {
        "colab": {
          "base_uri": "https://localhost:8080/",
          "height": 421
        },
        "id": "w94Ez9sTajOU",
        "outputId": "98859264-6e58-468e-ed54-9cea99cf6cb5"
      },
      "outputs": [
        {
          "data": {
            "image/png": "[encoded data removed]",
            "text/plain": [
              "<Figure size 720x432 with 1 Axes>"
            ]
          },
          "metadata": {
            "needs_background": "light"
          },
          "output_type": "display_data"
        },
        {
          "data": {
            "text/plain": [
              "<Figure size 432x288 with 0 Axes>"
            ]
          },
          "metadata": {},
          "output_type": "display_data"
        }
      ],
      "source": [
        "plt.figure(figsize=(10,6))  \n",
        "plt.plot(history.history['loss'], label='Train loss')\n",
        "plt.plot(history.history['val_loss'], label='Validation loss')\n",
        "plt.title(\"CNN\")\n",
        "plt.xlabel(\"Epochs\")\n",
        "plt.ylabel(\"MSE\")\n",
        "plt.legend()\n",
        "plt.show()\n",
        "plt.savefig('graph_CNN.png')"
      ]
    },
    {
      "cell_type": "code",
      "execution_count": null,
      "metadata": {
        "colab": {
          "base_uri": "https://localhost:8080/"
        },
        "id": "pAAo9ograrxO",
        "outputId": "d6bf7ec8-2338-4582-ba62-a7dd37dcf7d4"
      },
      "outputs": [
        {
          "name": "stdout",
          "output_type": "stream",
          "text": [
            "2/2 [==============================] - 0s 6ms/step\n",
            "(40, 1)\n",
            "RMSE at 40 = 10.259829\n",
            "RMAE at 40 = 2.7977135\n",
            "MAPE at 40 = 1.5789814\n",
            "R2 at 40 = 0.5336173165552498\n",
            "2/2 [==============================] - 0s 5ms/step\n",
            "(45, 1)\n",
            "RMSE at 45 = 10.081796\n",
            "RMAE at 45 = 2.7701728\n",
            "MAPE at 45 = 1.4111866\n",
            "R2 at 45 = 0.8824358244705464\n",
            "2/2 [==============================] - 0s 5ms/step\n",
            "(50, 1)\n",
            "RMSE at 50 = 12.044438\n",
            "RMAE at 50 = 2.9722643\n",
            "MAPE at 50 = 1.2911208\n",
            "R2 at 50 = 0.8924535336120408\n",
            "2/2 [==============================] - 0s 7ms/step\n",
            "(55, 1)\n",
            "RMSE at 55 = 12.303264\n",
            "RMAE at 55 = 3.0122716\n",
            "MAPE at 55 = 1.1858149\n",
            "R2 at 55 = 0.9035120367812377\n",
            "2/2 [==============================] - 0s 7ms/step\n",
            "(60, 1)\n",
            "RMSE at 60 = 12.186039\n",
            "RMAE at 60 = 3.0335763\n",
            "MAPE at 60 = 1.0957642\n",
            "R2 at 60 = 0.9148244211966615\n",
            "3/3 [==============================] - 0s 4ms/step\n",
            "(65, 1)\n",
            "RMSE at 65 = 14.328781\n",
            "RMAE at 65 = 3.2306476\n",
            "MAPE at 65 = 1.0289288\n",
            "R2 at 65 = 0.885941407213849\n",
            "3/3 [==============================] - 0s 4ms/step\n",
            "(70, 1)\n",
            "RMSE at 70 = 22.236732\n",
            "RMAE at 70 = 3.6780486\n",
            "MAPE at 70 = 1.0591272\n",
            "R2 at 70 = 0.7519036840002596\n",
            "3/3 [==============================] - 0s 4ms/step\n",
            "(75, 1)\n",
            "RMSE at 75 = 22.006636\n",
            "RMAE at 75 = 3.6994786\n",
            "MAPE at 75 = 1.0930834\n",
            "R2 at 75 = 0.7478759892078976\n",
            "3/3 [==============================] - 0s 4ms/step\n",
            "(80, 1)\n",
            "RMSE at 80 = 21.400164\n",
            "RMAE at 80 = 3.63873\n",
            "MAPE at 80 = 1.0635757\n",
            "R2 at 80 = 0.7557434548678197\n",
            "3/3 [==============================] - 0s 6ms/step\n",
            "(85, 1)\n",
            "RMSE at 85 = 20.903887\n",
            "RMAE at 85 = 3.600729\n",
            "MAPE at 85 = 1.0518711\n",
            "R2 at 85 = 0.7595426413340056\n",
            "3/3 [==============================] - 0s 4ms/step\n",
            "(90, 1)\n",
            "RMSE at 90 = 20.343048\n",
            "RMAE at 90 = 3.5273805\n",
            "MAPE at 90 = 0.9987293\n",
            "R2 at 90 = 0.7611258116076266\n",
            "3/3 [==============================] - 0s 4ms/step\n",
            "(95, 1)\n",
            "RMSE at 95 = 19.863031\n",
            "RMAE at 95 = 3.481088\n",
            "MAPE at 95 = 0.949902\n",
            "R2 at 95 = 0.7682769739955564\n",
            "4/4 [==============================] - 0s 3ms/step\n",
            "(100, 1)\n",
            "RMSE at 100 = 19.655706\n",
            "RMAE at 100 = 3.4890146\n",
            "MAPE at 100 = 0.9074984\n",
            "R2 at 100 = 0.7980165264989764\n",
            "4/4 [==============================] - 0s 4ms/step\n",
            "(105, 1)\n",
            "RMSE at 105 = 20.177961\n",
            "RMAE at 105 = 3.5471735\n",
            "MAPE at 105 = 0.87258255\n",
            "R2 at 105 = 0.8175064755853005\n",
            "4/4 [==============================] - 0s 3ms/step\n",
            "(110, 1)\n",
            "RMSE at 110 = 20.692253\n",
            "RMAE at 110 = 3.6146097\n",
            "MAPE at 110 = 0.8389101\n",
            "R2 at 110 = 0.8257814950530722\n",
            "4/4 [==============================] - 0s 3ms/step\n",
            "(115, 1)\n",
            "RMSE at 115 = 20.4002\n",
            "RMAE at 115 = 3.6040416\n",
            "MAPE at 115 = 0.8049397\n",
            "R2 at 115 = 0.870377645368285\n",
            "4/4 [==============================] - 0s 3ms/step\n",
            "(120, 1)\n",
            "RMSE at 120 = 21.164253\n",
            "RMAE at 120 = 3.6537073\n",
            "MAPE at 120 = 0.77657926\n",
            "R2 at 120 = 0.8903329406334817\n",
            "4/4 [==============================] - 0s 3ms/step\n",
            "(125, 1)\n",
            "RMSE at 125 = 22.108995\n",
            "RMAE at 125 = 3.7229826\n",
            "MAPE at 125 = 0.75198054\n",
            "R2 at 125 = 0.8903128699882158\n",
            "5/5 [==============================] - 0s 2ms/step\n",
            "(130, 1)\n",
            "RMSE at 130 = 21.75816\n",
            "RMAE at 130 = 3.688023\n",
            "MAPE at 130 = 0.7245716\n",
            "R2 at 130 = 0.9004538951672021\n",
            "5/5 [==============================] - 0s 2ms/step\n",
            "(135, 1)\n",
            "RMSE at 135 = 21.624762\n",
            "RMAE at 135 = 3.6950705\n",
            "MAPE at 135 = 0.7002567\n",
            "R2 at 135 = 0.9089760888386109\n",
            "5/5 [==============================] - 0s 2ms/step\n",
            "(140, 1)\n",
            "RMSE at 140 = 21.348763\n",
            "RMAE at 140 = 3.679861\n",
            "MAPE at 140 = 0.6767683\n",
            "R2 at 140 = 0.9197918625906293\n",
            "5/5 [==============================] - 0s 2ms/step\n",
            "(145, 1)\n",
            "RMSE at 145 = 21.780107\n",
            "RMAE at 145 = 3.753483\n",
            "MAPE at 145 = 0.65722543\n",
            "R2 at 145 = 0.923927566737551\n",
            "5/5 [==============================] - 0s 2ms/step\n",
            "(150, 1)\n",
            "RMSE at 150 = 21.665323\n",
            "RMAE at 150 = 3.7604\n",
            "MAPE at 150 = 0.637392\n",
            "R2 at 150 = 0.9293993120835563\n",
            "5/5 [==============================] - 0s 2ms/step\n",
            "(155, 1)\n",
            "RMSE at 155 = 28.958536\n",
            "RMAE at 155 = 4.1139627\n",
            "MAPE at 155 = 0.6262265\n",
            "R2 at 155 = 0.8797087472065347\n",
            "5/5 [==============================] - 0s 3ms/step\n",
            "(160, 1)\n",
            "RMSE at 160 = 30.929031\n",
            "RMAE at 160 = 4.267264\n",
            "MAPE at 160 = 0.6162903\n",
            "R2 at 160 = 0.8720390777824916\n",
            "6/6 [==============================] - 0s 2ms/step\n",
            "(165, 1)\n",
            "RMSE at 165 = 37.228615\n",
            "RMAE at 165 = 4.555653\n",
            "MAPE at 165 = 0.60723305\n",
            "R2 at 165 = 0.8174280894145152\n",
            "6/6 [==============================] - 0s 2ms/step\n",
            "(170, 1)\n",
            "RMSE at 170 = 38.930935\n",
            "RMAE at 170 = 4.7062087\n",
            "MAPE at 170 = 0.5958209\n",
            "R2 at 170 = 0.8426881082506239\n",
            "6/6 [==============================] - 0s 2ms/step\n",
            "(175, 1)\n",
            "RMSE at 175 = 38.959476\n",
            "RMAE at 175 = 4.7464223\n",
            "MAPE at 175 = 0.58176523\n",
            "R2 at 175 = 0.8517125170944845\n",
            "6/6 [==============================] - 0s 2ms/step\n",
            "(180, 1)\n",
            "RMSE at 180 = 40.888428\n",
            "RMAE at 180 = 4.8765793\n",
            "MAPE at 180 = 0.57472014\n",
            "R2 at 180 = 0.8383879121120555\n"
          ]
        }
      ],
      "source": [
        "RMSE1=[]\n",
        "RMAE1=[]\n",
        "MAPE1=[]\n",
        "R22=[]\n",
        "\n",
        "for i in range(40, 181, 5):\n",
        "  Y_pred = model_cnn.predict(X_test[:i,:])\n",
        "  print(Y_pred.shape)\n",
        "  #print(Y_pred)\n",
        "  #Scaling back to the original scale\n",
        "  d = scaled_dataset[:i,:]\n",
        "  Y_predicted = np.concatenate((Y_pred,d[:i,1:]), axis =1)\n",
        "  Y_tested = np.concatenate((Y_test[:i,], d[:i,1:]), axis = 1)\n",
        "  Y_predicted = scaler.inverse_transform(Y_predicted)\n",
        "  Y_tested = scaler.inverse_transform(Y_tested)\n",
        "  Y_predicted = Y_predicted[:,0:1]\n",
        "  Y_tested = Y_tested[:i,0:1]\n",
        "  mse = mean_squared_error(Y_tested, Y_predicted)\n",
        "  rmse = np.sqrt(mse)\n",
        "  print(\"RMSE at %s = %s\" % (i, rmse))\n",
        "  RMSE1=np.append(RMSE1,rmse)\n",
        "  mae = mean_absolute_error(Y_tested, Y_predicted)\n",
        "  rmae = np.sqrt(mae)\n",
        "  RMAE1=np.append(RMAE1,rmae)\n",
        "  print(\"RMAE at %s = %s\" % (i, rmae))\n",
        "  mape = mean_absolute_percentage_error(Y_tested, Y_predicted)\n",
        "  print(\"MAPE at %s = %s\" % (i, mape))\n",
        "  MAPE1=np.append(MAPE1,mape)\n",
        "  #R2 score\n",
        "  R2 = r2_score( Y_predicted, Y_tested)\n",
        "  print(\"R2 at %s = %s\" % (i, R2))\n",
        "  R22=np.append(R22,R2)"
      ]
    },
    {
      "cell_type": "code",
      "execution_count": null,
      "metadata": {
        "colab": {
          "base_uri": "https://localhost:8080/",
          "height": 421
        },
        "id": "-j6zao-Xa2kl",
        "outputId": "92b4df0d-a06b-4806-bc08-f10add434032"
      },
      "outputs": [
        {
          "data": {
            "image/png": "[encoded data removed]",
            "text/plain": [
              "<Figure size 720x432 with 1 Axes>"
            ]
          },
          "metadata": {
            "needs_background": "light"
          },
          "output_type": "display_data"
        },
        {
          "data": {
            "text/plain": [
              "<Figure size 432x288 with 0 Axes>"
            ]
          },
          "metadata": {},
          "output_type": "display_data"
        }
      ],
      "source": [
        "x=[]\n",
        "for i in range(40, 181, 5):\n",
        " x=np.append(x,i)\n",
        "plt.figure(figsize=(10,6))  \n",
        "#plt.plot(RMSE1, color= 'green',label = 'RMSE')\n",
        "plt.plot(x,RMSE1,'o-', label = 'RMSE')\n",
        "plt.title(\"Air Pollution Prediction (RMSE)\")\n",
        "plt.xlabel(\"Time (Hours)\")\n",
        "plt.ylabel(\"RMSE\")\n",
        "plt.legend()\n",
        "plt.show()\n",
        "plt.savefig('Predicted_CNNGRU_RMSE.png')\n",
        "savetxt('RMSE_CNN.csv', RMSE1, delimiter=',')"
      ]
    },
    {
      "cell_type": "code",
      "execution_count": null,
      "metadata": {
        "colab": {
          "base_uri": "https://localhost:8080/",
          "height": 421
        },
        "id": "lQK0VCwxbB9K",
        "outputId": "bc65a371-0126-4618-c27c-82d47e983acf"
      },
      "outputs": [
        {
          "data": {
            "image/png": "[encoded data removed]",
            "text/plain": [
              "<Figure size 720x432 with 1 Axes>"
            ]
          },
          "metadata": {
            "needs_background": "light"
          },
          "output_type": "display_data"
        },
        {
          "data": {
            "text/plain": [
              "<Figure size 432x288 with 0 Axes>"
            ]
          },
          "metadata": {},
          "output_type": "display_data"
        }
      ],
      "source": [
        "x=[]\n",
        "for i in range(40, 181, 5):\n",
        " x=np.append(x,i)\n",
        "plt.figure(figsize=(10,6))  \n",
        "#plt.plot(RMSE1, color= 'green',label = 'RMSE')\n",
        "plt.plot(x,RMAE1, 'o-',label = 'RMAE')\n",
        "plt.title(\"Air Pollution Prediction (RMAE)\")\n",
        "plt.xlabel(\"Time (Hours)\")\n",
        "plt.ylabel(\"RMAE\")\n",
        "plt.legend()\n",
        "plt.show()\n",
        "plt.savefig('Predicted_CNNGRU_RMSE.png')\n",
        "savetxt('RMAE_CNN.csv', RMAE1, delimiter=',')"
      ]
    },
    {
      "cell_type": "code",
      "execution_count": null,
      "metadata": {
        "colab": {
          "base_uri": "https://localhost:8080/",
          "height": 421
        },
        "id": "mCt4GZJnbRux",
        "outputId": "5c9d8e31-735c-42ad-9309-79ec358802da"
      },
      "outputs": [
        {
          "data": {
            "image/png": "[encoded data removed]",
            "text/plain": [
              "<Figure size 720x432 with 1 Axes>"
            ]
          },
          "metadata": {
            "needs_background": "light"
          },
          "output_type": "display_data"
        },
        {
          "data": {
            "text/plain": [
              "<Figure size 432x288 with 0 Axes>"
            ]
          },
          "metadata": {},
          "output_type": "display_data"
        }
      ],
      "source": [
        "x=[]\n",
        "for i in range(40, 181, 5):\n",
        " x=np.append(x,i)\n",
        "plt.figure(figsize=(10,6))  \n",
        "#plt.plot(RMSE1, color= 'green',label = 'RMSE')\n",
        "plt.plot(x,MAPE1, 'o-', label='MAPE')\n",
        "plt.title(\"Air Pollution Prediction (MAPE)\")\n",
        "plt.xlabel(\"Time (Hours)\")\n",
        "plt.ylabel(\"MAPE\")\n",
        "plt.legend()\n",
        "plt.show()\n",
        "plt.savefig('Predicted_CNNGRU_MAPE.png')\n",
        "savetxt('MAPE_CNN.csv', MAPE1, delimiter=',')"
      ]
    },
    {
      "cell_type": "code",
      "execution_count": null,
      "metadata": {
        "colab": {
          "base_uri": "https://localhost:8080/",
          "height": 421
        },
        "id": "gl0r4iBgbW4D",
        "outputId": "de2d11ea-5028-495f-aa90-f3e384e1382e"
      },
      "outputs": [
        {
          "data": {
            "image/png": "[encoded data removed]",
            "text/plain": [
              "<Figure size 720x432 with 1 Axes>"
            ]
          },
          "metadata": {
            "needs_background": "light"
          },
          "output_type": "display_data"
        },
        {
          "data": {
            "text/plain": [
              "<Figure size 432x288 with 0 Axes>"
            ]
          },
          "metadata": {},
          "output_type": "display_data"
        }
      ],
      "source": [
        "x=[]\n",
        "for i in range(40, 181, 5):\n",
        " x=np.append(x,i)\n",
        "plt.figure(figsize=(10,6))  \n",
        "#plt.plot(RMSE1, color= 'green',label = 'RMSE')\n",
        "plt.plot(x,R22, 'o-', label='R2')\n",
        "plt.title(\"Air Pollution Prediction (R2)\")\n",
        "plt.xlabel(\"Time (Hours)\")\n",
        "plt.ylabel(\"R2\")\n",
        "plt.legend()\n",
        "plt.show()\n",
        "plt.savefig('Predicted_CNNGRU_R2.png')\n",
        "savetxt('R22_CNN.csv', R22, delimiter=',')"
      ]
    },
    {
      "cell_type": "code",
      "execution_count": null,
      "metadata": {
        "colab": {
          "base_uri": "https://localhost:8080/",
          "height": 421
        },
        "id": "xj4o1FkwbflW",
        "outputId": "dd6e76f9-44ac-450d-91f5-9ae511b3e8da"
      },
      "outputs": [
        {
          "data": {
            "image/png": "[encoded data removed]",
            "text/plain": [
              "<Figure size 720x432 with 1 Axes>"
            ]
          },
          "metadata": {
            "needs_background": "light"
          },
          "output_type": "display_data"
        },
        {
          "data": {
            "text/plain": [
              "<Figure size 432x288 with 0 Axes>"
            ]
          },
          "metadata": {},
          "output_type": "display_data"
        }
      ],
      "source": [
        "plt.figure(figsize=(10,6))  \n",
        "plt.plot(Y_predicted, color= 'green',label = 'Predicted Pollution level')\n",
        "plt.plot(Y_tested , color = 'red',label = 'Actual Pollution level')\n",
        "plt.title(\"Air Pollution Prediction (CNN_GRU))\")\n",
        "plt.xlabel(\"Time (Hours)\")\n",
        "plt.ylabel(\"Pollution level (PM2.5)\")\n",
        "plt.legend()\n",
        "plt.show()\n",
        "plt.savefig('graphCNN.png')"
      ]
    },
    {
      "cell_type": "code",
      "execution_count": null,
      "metadata": {
        "id": "qcGtkFIibliG"
      },
      "outputs": [],
      "source": [
        "savetxt('Predict_LSTM.csv', Y_predicted, delimiter=',')"
      ]
    },
    {
      "cell_type": "code",
      "execution_count": null,
      "metadata": {
        "id": "0YPj3p7fbrbn"
      },
      "outputs": [],
      "source": [
        "savetxt('Test_LSTM.csv', Y_test, delimiter=',')"
      ]
    }
  ],
  "metadata": {
    "colab": {
      "provenance": []
    },
    "kernelspec": {
      "display_name": "Python 3",
      "name": "python3"
    },
    "language_info": {
      "name": "python"
    }
  },
  "nbformat": 4,
  "nbformat_minor": 0
}
